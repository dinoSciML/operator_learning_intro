{
 "cells": [
  {
   "cell_type": "markdown",
   "id": "7fafaef8-c3b4-4367-9ff2-79204e7c55a0",
   "metadata": {},
   "source": [
    "# $L^2_\\mu$ training of Fourier Neural Operator"
   ]
  },
  {
   "cell_type": "code",
   "execution_count": 1,
   "id": "17960190-522a-4304-b1a1-f18201b33cb0",
   "metadata": {},
   "outputs": [],
   "source": [
    "# MIT License\n",
    "# Copyright (c) 2025\n",
    "#\n",
    "# This is part of the dino_tutorial package\n",
    "# \n",
    "# Permission is hereby granted, free of charge, to any person obtaining a copy\n",
    "# of this software and associated documentation files (the \"Software\"), to deal\n",
    "# in the Software without restriction, subject to the following conditions:\n",
    "#\n",
    "# The above copyright notice and this permission notice shall be included in\n",
    "# all copies or substantial portions of the Software.\n",
    "#\n",
    "# THE SOFTWARE IS PROVIDED \"AS IS\", WITHOUT WARRANTY OF ANY KIND.\n",
    "# For additional questions contact Thomas O'Leary-Roseberry\n",
    "\n",
    "import os, sys\n",
    "import torch\n",
    "from torch import nn\n",
    "import numpy as np\n",
    "from torch.utils.data import DataLoader\n",
    "from tqdm import tqdm\n",
    "\n",
    "sys.path.append('../../')\n",
    "\n",
    "from dinotorch_lite import *\n"
   ]
  },
  {
   "cell_type": "markdown",
   "id": "201ce7bc-67b4-4eed-8a71-813aaac5d9ff",
   "metadata": {},
   "source": [
    "## Load the Data"
   ]
  },
  {
   "cell_type": "code",
   "execution_count": 13,
   "id": "5b2c8390-ddb7-45fb-b3e6-33c0797ea984",
   "metadata": {},
   "outputs": [
    {
     "name": "stdout",
     "output_type": "stream",
     "text": [
      "dQ =  3322 , dM =  1661\n"
     ]
    }
   ],
   "source": [
    "data_dir = 'data/full_state/'\n",
    "\n",
    "mq_data_dict = np.load(data_dir+'mq_data.npz')\n",
    "\n",
    "q_data = mq_data_dict['q_data']\n",
    "m_data = mq_data_dict['m_data']\n",
    "fno_metadata = np.load(data_dir+'fno_metadata.npz')\n",
    "\n",
    "d2v = fno_metadata['d2v_param']\n",
    "v2d = fno_metadata['v2d_param']\n",
    "nx = fno_metadata['nx']\n",
    "ny = fno_metadata['ny']\n",
    "\n",
    "n_data, dQ = q_data.shape\n",
    "n_data, dM = m_data.shape\n",
    "\n",
    "print('dQ = ',dQ,', dM = ',dM)\n",
    "\n",
    "m_train = torch.Tensor(m_data[:-800])\n",
    "q_train = torch.Tensor(q_data[:-800])\n",
    "\n",
    "m_test = torch.Tensor(m_data[-200:])\n",
    "q_test = torch.Tensor(q_data[-200:])\n",
    "\n",
    "\n",
    "\n",
    "# Set up datasets and loaders\n",
    "l2train = L2Dataset(m_train,q_train)\n",
    "l2test = L2Dataset(m_test,q_test)\n",
    "batch_size = 32\n",
    "\n",
    "train_loader = DataLoader(l2train, batch_size=batch_size, shuffle=True)\n",
    "validation_loader = DataLoader(l2test, batch_size=batch_size, shuffle=True)\n",
    "\n",
    "# device = torch.device('cuda' if torch.cuda.is_available() else 'cpu')\n",
    "device = 'cpu'"
   ]
  },
  {
   "cell_type": "code",
   "execution_count": null,
   "id": "a330affb-c616-46f5-8572-8dcfa6bb65e8",
   "metadata": {},
   "outputs": [],
   "source": []
  },
  {
   "cell_type": "code",
   "execution_count": 24,
   "id": "5211b737-cc6b-4d4a-bc57-c29b9a2df6e2",
   "metadata": {},
   "outputs": [
    {
     "ename": "RuntimeError",
     "evalue": "shape '[2, 1, 41, 21]' is invalid for input of size 3322",
     "output_type": "error",
     "traceback": [
      "\u001b[0;31m---------------------------------------------------------------------------\u001b[0m",
      "\u001b[0;31mRuntimeError\u001b[0m                              Traceback (most recent call last)",
      "Cell \u001b[0;32mIn[24], line 8\u001b[0m\n\u001b[1;32m      4\u001b[0m x \u001b[38;5;241m=\u001b[39m torch\u001b[38;5;241m.\u001b[39mTensor(m_data[\u001b[38;5;241m0\u001b[39m:\u001b[38;5;241m2\u001b[39m])\n\u001b[1;32m      6\u001b[0m x\u001b[38;5;241m.\u001b[39mshape\n\u001b[0;32m----> 8\u001b[0m \u001b[43mx\u001b[49m\u001b[38;5;241;43m.\u001b[39;49m\u001b[43mview\u001b[49m\u001b[43m(\u001b[49m\u001b[43mx\u001b[49m\u001b[38;5;241;43m.\u001b[39;49m\u001b[43mshape\u001b[49m\u001b[43m[\u001b[49m\u001b[38;5;241;43m0\u001b[39;49m\u001b[43m]\u001b[49m\u001b[43m,\u001b[49m\u001b[43m \u001b[49m\u001b[38;5;241;43m1\u001b[39;49m\u001b[43m,\u001b[49m\u001b[43m \u001b[49m\u001b[43mnx\u001b[49m\u001b[38;5;241;43m+\u001b[39;49m\u001b[38;5;241;43m1\u001b[39;49m\u001b[43m,\u001b[49m\u001b[43m \u001b[49m\u001b[43mny\u001b[49m\u001b[38;5;241;43m+\u001b[39;49m\u001b[38;5;241;43m1\u001b[39;49m\u001b[43m)\u001b[49m\n\u001b[1;32m      9\u001b[0m \u001b[38;5;66;03m# model(x)\u001b[39;00m\n",
      "\u001b[0;31mRuntimeError\u001b[0m: shape '[2, 1, 41, 21]' is invalid for input of size 3322"
     ]
    }
   ],
   "source": [
    "model_settings = fno2d_settings(modes1=12, modes2=12, width=256, n_layers=4, d_out=2)\n",
    "model = VectorFNO2D(v2d=[d2v, d2v], d2v=[v2d, v2d], nx=nx, ny=ny, dim=2, settings=model_settings).to(device) \n",
    "\n",
    "x = torch.Tensor(m_data[0:2])\n",
    "\n",
    "x.shape\n",
    "\n",
    "x.view(x.shape[0], 1, nx+1, ny+1)\n",
    "# model(x)"
   ]
  },
  {
   "cell_type": "code",
   "execution_count": 25,
   "id": "6296836d-a72d-423b-ab58-9d9983b75891",
   "metadata": {},
   "outputs": [
    {
     "data": {
      "text/plain": [
       "861"
      ]
     },
     "execution_count": 25,
     "metadata": {},
     "output_type": "execute_result"
    }
   ],
   "source": [
    "41*21"
   ]
  },
  {
   "cell_type": "code",
   "execution_count": 38,
   "id": "7b55a0fd-208f-4c22-8453-7609bfcdb228",
   "metadata": {},
   "outputs": [
    {
     "name": "stdout",
     "output_type": "stream",
     "text": [
      "Number of dofs: STATE=3322, PARAMETER=1661, ADJOINT=3322\n",
      "Number of observation points: 50\n"
     ]
    }
   ],
   "source": [
    "sys.path.append(os.environ.get('HIPPYLIB_PATH'))\n",
    "import hippylib\n",
    "from linear_elasticity_model import *\n",
    "\n",
    "settings = linear_elasticity_settings()\n",
    "model = linear_elasticity_model(settings)"
   ]
  },
  {
   "cell_type": "code",
   "execution_count": 39,
   "id": "f50daeb8-54ff-4118-bf83-a5f2f9b02dff",
   "metadata": {},
   "outputs": [
    {
     "data": {
      "text/plain": [
       "40"
      ]
     },
     "execution_count": 39,
     "metadata": {},
     "output_type": "execute_result"
    }
   ],
   "source": [
    "settings['nx']"
   ]
  },
  {
   "cell_type": "code",
   "execution_count": 40,
   "id": "c08571a1-2d27-4a20-a75a-e98e8ac2149b",
   "metadata": {},
   "outputs": [
    {
     "data": {
      "text/plain": [
       "20"
      ]
     },
     "execution_count": 40,
     "metadata": {},
     "output_type": "execute_result"
    }
   ],
   "source": [
    "settings['ny']"
   ]
  },
  {
   "cell_type": "markdown",
   "id": "e02ff4af-92ac-4a90-89d3-cae03b933d11",
   "metadata": {},
   "source": [
    "## $L^2_\\mu$ training"
   ]
  },
  {
   "cell_type": "code",
   "execution_count": null,
   "id": "3d2e341e-a692-44b6-98b8-c1a4a7590025",
   "metadata": {},
   "outputs": [],
   "source": []
  },
  {
   "cell_type": "code",
   "execution_count": null,
   "id": "8f1285ad-3b3b-4796-abf3-741f5a46b239",
   "metadata": {},
   "outputs": [],
   "source": []
  },
  {
   "cell_type": "code",
   "execution_count": 21,
   "id": "aeb2c5dc-15e4-417b-a525-ce425a09fb28",
   "metadata": {},
   "outputs": [
    {
     "ename": "IndexError",
     "evalue": "too many indices for tensor of dimension 1",
     "output_type": "error",
     "traceback": [
      "\u001b[0;31m---------------------------------------------------------------------------\u001b[0m",
      "\u001b[0;31mIndexError\u001b[0m                                Traceback (most recent call last)",
      "Cell \u001b[0;32mIn[21], line 4\u001b[0m\n\u001b[1;32m      1\u001b[0m model_settings \u001b[38;5;241m=\u001b[39m fno2d_settings(modes1\u001b[38;5;241m=\u001b[39m\u001b[38;5;241m12\u001b[39m, modes2\u001b[38;5;241m=\u001b[39m\u001b[38;5;241m12\u001b[39m, width\u001b[38;5;241m=\u001b[39m\u001b[38;5;241m256\u001b[39m, n_layers\u001b[38;5;241m=\u001b[39m\u001b[38;5;241m4\u001b[39m, d_out\u001b[38;5;241m=\u001b[39m\u001b[38;5;241m2\u001b[39m)\n\u001b[1;32m      2\u001b[0m model \u001b[38;5;241m=\u001b[39m VectorFNO2D(v2d\u001b[38;5;241m=\u001b[39m[d2v, d2v], d2v\u001b[38;5;241m=\u001b[39m[v2d, v2d], nx\u001b[38;5;241m=\u001b[39mnx, ny\u001b[38;5;241m=\u001b[39mny, dim\u001b[38;5;241m=\u001b[39m\u001b[38;5;241m2\u001b[39m, settings\u001b[38;5;241m=\u001b[39mmodel_settings)\u001b[38;5;241m.\u001b[39mto(device) \n\u001b[0;32m----> 4\u001b[0m \u001b[43mmodel\u001b[49m\u001b[43m(\u001b[49m\u001b[43mx\u001b[49m\u001b[43m)\u001b[49m\n\u001b[1;32m      6\u001b[0m \u001b[38;5;66;03m# n_epochs = 100\u001b[39;00m\n\u001b[1;32m      7\u001b[0m \u001b[38;5;66;03m# loss_func = normalized_f_mse\u001b[39;00m\n\u001b[1;32m      8\u001b[0m \u001b[38;5;66;03m# lr_scheduler = None\u001b[39;00m\n\u001b[0;32m   (...)\u001b[0m\n\u001b[1;32m     18\u001b[0m \n\u001b[1;32m     19\u001b[0m \u001b[38;5;66;03m# torch.save(model.state_dict(), data_dir+'l2_model.pth')\u001b[39;00m\n",
      "File \u001b[0;32m~/miniconda3_x86/envs/torchfem/lib/python3.11/site-packages/torch/nn/modules/module.py:1532\u001b[0m, in \u001b[0;36mModule._wrapped_call_impl\u001b[0;34m(self, *args, **kwargs)\u001b[0m\n\u001b[1;32m   1530\u001b[0m     \u001b[38;5;28;01mreturn\u001b[39;00m \u001b[38;5;28mself\u001b[39m\u001b[38;5;241m.\u001b[39m_compiled_call_impl(\u001b[38;5;241m*\u001b[39margs, \u001b[38;5;241m*\u001b[39m\u001b[38;5;241m*\u001b[39mkwargs)  \u001b[38;5;66;03m# type: ignore[misc]\u001b[39;00m\n\u001b[1;32m   1531\u001b[0m \u001b[38;5;28;01melse\u001b[39;00m:\n\u001b[0;32m-> 1532\u001b[0m     \u001b[38;5;28;01mreturn\u001b[39;00m \u001b[38;5;28;43mself\u001b[39;49m\u001b[38;5;241;43m.\u001b[39;49m\u001b[43m_call_impl\u001b[49m\u001b[43m(\u001b[49m\u001b[38;5;241;43m*\u001b[39;49m\u001b[43margs\u001b[49m\u001b[43m,\u001b[49m\u001b[43m \u001b[49m\u001b[38;5;241;43m*\u001b[39;49m\u001b[38;5;241;43m*\u001b[39;49m\u001b[43mkwargs\u001b[49m\u001b[43m)\u001b[49m\n",
      "File \u001b[0;32m~/miniconda3_x86/envs/torchfem/lib/python3.11/site-packages/torch/nn/modules/module.py:1541\u001b[0m, in \u001b[0;36mModule._call_impl\u001b[0;34m(self, *args, **kwargs)\u001b[0m\n\u001b[1;32m   1536\u001b[0m \u001b[38;5;66;03m# If we don't have any hooks, we want to skip the rest of the logic in\u001b[39;00m\n\u001b[1;32m   1537\u001b[0m \u001b[38;5;66;03m# this function, and just call forward.\u001b[39;00m\n\u001b[1;32m   1538\u001b[0m \u001b[38;5;28;01mif\u001b[39;00m \u001b[38;5;129;01mnot\u001b[39;00m (\u001b[38;5;28mself\u001b[39m\u001b[38;5;241m.\u001b[39m_backward_hooks \u001b[38;5;129;01mor\u001b[39;00m \u001b[38;5;28mself\u001b[39m\u001b[38;5;241m.\u001b[39m_backward_pre_hooks \u001b[38;5;129;01mor\u001b[39;00m \u001b[38;5;28mself\u001b[39m\u001b[38;5;241m.\u001b[39m_forward_hooks \u001b[38;5;129;01mor\u001b[39;00m \u001b[38;5;28mself\u001b[39m\u001b[38;5;241m.\u001b[39m_forward_pre_hooks\n\u001b[1;32m   1539\u001b[0m         \u001b[38;5;129;01mor\u001b[39;00m _global_backward_pre_hooks \u001b[38;5;129;01mor\u001b[39;00m _global_backward_hooks\n\u001b[1;32m   1540\u001b[0m         \u001b[38;5;129;01mor\u001b[39;00m _global_forward_hooks \u001b[38;5;129;01mor\u001b[39;00m _global_forward_pre_hooks):\n\u001b[0;32m-> 1541\u001b[0m     \u001b[38;5;28;01mreturn\u001b[39;00m \u001b[43mforward_call\u001b[49m\u001b[43m(\u001b[49m\u001b[38;5;241;43m*\u001b[39;49m\u001b[43margs\u001b[49m\u001b[43m,\u001b[49m\u001b[43m \u001b[49m\u001b[38;5;241;43m*\u001b[39;49m\u001b[38;5;241;43m*\u001b[39;49m\u001b[43mkwargs\u001b[49m\u001b[43m)\u001b[49m\n\u001b[1;32m   1543\u001b[0m \u001b[38;5;28;01mtry\u001b[39;00m:\n\u001b[1;32m   1544\u001b[0m     result \u001b[38;5;241m=\u001b[39m \u001b[38;5;28;01mNone\u001b[39;00m\n",
      "File \u001b[0;32m~/Programming/github_repos/operator_learning_intro/tutorials/Tutorial1-LinearElasticity/../../dinotorch_lite/architectures/fno2d.py:177\u001b[0m, in \u001b[0;36mVectorFNO2D.forward\u001b[0;34m(self, x)\u001b[0m\n\u001b[1;32m    176\u001b[0m \u001b[38;5;28;01mdef\u001b[39;00m \u001b[38;5;21mforward\u001b[39m(\u001b[38;5;28mself\u001b[39m, x: torch\u001b[38;5;241m.\u001b[39mTensor) \u001b[38;5;241m-\u001b[39m\u001b[38;5;241m>\u001b[39m torch\u001b[38;5;241m.\u001b[39mTensor:\n\u001b[0;32m--> 177\u001b[0m     x \u001b[38;5;241m=\u001b[39m \u001b[43mx\u001b[49m\u001b[43m[\u001b[49m\u001b[43m:\u001b[49m\u001b[43m,\u001b[49m\u001b[43m \u001b[49m\u001b[38;5;28;43mself\u001b[39;49m\u001b[38;5;241;43m.\u001b[39;49m\u001b[43m_d2v\u001b[49m\u001b[43m[\u001b[49m\u001b[43mINPUT\u001b[49m\u001b[43m]\u001b[49m\u001b[43m]\u001b[49m\n\u001b[1;32m    178\u001b[0m     x \u001b[38;5;241m=\u001b[39m x\u001b[38;5;241m.\u001b[39mview(x\u001b[38;5;241m.\u001b[39mshape[\u001b[38;5;241m0\u001b[39m], \u001b[38;5;241m1\u001b[39m, \u001b[38;5;28mself\u001b[39m\u001b[38;5;241m.\u001b[39m_nx\u001b[38;5;241m+\u001b[39m\u001b[38;5;241m1\u001b[39m, \u001b[38;5;28mself\u001b[39m\u001b[38;5;241m.\u001b[39m_ny\u001b[38;5;241m+\u001b[39m\u001b[38;5;241m1\u001b[39m)\n\u001b[1;32m    179\u001b[0m     out \u001b[38;5;241m=\u001b[39m \u001b[38;5;28mself\u001b[39m\u001b[38;5;241m.\u001b[39m_FNO2d\u001b[38;5;241m.\u001b[39mforward(x)\n",
      "\u001b[0;31mIndexError\u001b[0m: too many indices for tensor of dimension 1"
     ]
    }
   ],
   "source": [
    "# model_settings = fno2d_settings(modes1=12, modes2=12, width=256, n_layers=4, d_out=2)\n",
    "# model = VectorFNO2D(v2d=[d2v, d2v], d2v=[v2d, v2d], nx=nx, ny=ny, dim=2, settings=model_settings).to(device) \n",
    "\n",
    "\n",
    "# n_epochs = 100\n",
    "# loss_func = normalized_f_mse\n",
    "# lr_scheduler = None\n",
    "\n",
    "# optimizer = torch.optim.Adam(model.parameters())\n",
    "\n",
    "# network, history = l2_training(model,loss_func,train_loader, validation_loader,\\\n",
    "#                      optimizer,lr_scheduler=lr_scheduler,n_epochs = n_epochs)\n",
    "\n",
    "# rel_error = evaluate_l2_error(model,validation_loader)\n",
    "\n",
    "# print('L2 relative error = ', rel_error)\n",
    "\n",
    "# torch.save(model.state_dict(), data_dir+'l2_model.pth')"
   ]
  },
  {
   "cell_type": "code",
   "execution_count": null,
   "id": "44418e22-0b44-4bc8-b6e8-3dc3419b3b41",
   "metadata": {},
   "outputs": [],
   "source": []
  }
 ],
 "metadata": {
  "kernelspec": {
   "display_name": "Python 3 (ipykernel)",
   "language": "python",
   "name": "python3"
  },
  "language_info": {
   "codemirror_mode": {
    "name": "ipython",
    "version": 3
   },
   "file_extension": ".py",
   "mimetype": "text/x-python",
   "name": "python",
   "nbconvert_exporter": "python",
   "pygments_lexer": "ipython3",
   "version": "3.11.9"
  }
 },
 "nbformat": 4,
 "nbformat_minor": 5
}
