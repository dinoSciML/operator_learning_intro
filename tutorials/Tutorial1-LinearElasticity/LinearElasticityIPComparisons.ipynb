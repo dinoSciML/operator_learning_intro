{
 "cells": [
  {
   "cell_type": "markdown",
   "id": "fc0fca04-d694-4e40-bb8a-7cf8c1cf6042",
   "metadata": {},
   "source": [
    "# Comparison of $L^2_\\mu$ and $H^1_\\mu$ Neural Operator Inverse Solutions"
   ]
  },
  {
   "cell_type": "code",
   "execution_count": null,
   "id": "7711bd3d-6c46-47e3-acc0-452294fb01f9",
   "metadata": {},
   "outputs": [],
   "source": [
    "# MIT License\n",
    "# Copyright (c) 2025\n",
    "#\n",
    "# This is part of the dino_tutorial package\n",
    "# \n",
    "# Permission is hereby granted, free of charge, to any person obtaining a copy\n",
    "# of this software and associated documentation files (the \"Software\"), to deal\n",
    "# in the Software without restriction, subject to the following conditions:\n",
    "#\n",
    "# The above copyright notice and this permission notice shall be included in\n",
    "# all copies or substantial portions of the Software.\n",
    "#\n",
    "# THE SOFTWARE IS PROVIDED \"AS IS\", WITHOUT WARRANTY OF ANY KIND.\n",
    "# For additional questions contact Thomas O'Leary-Roseberry\n",
    "\n",
    "import dolfin as dl\n",
    "import ufl\n",
    "import math\n",
    "import numpy as np\n",
    "import matplotlib.pyplot as plt\n",
    "%matplotlib inline\n",
    "import sys\n",
    "import os\n",
    "sys.path.append( os.environ.get('HIPPYLIB_PATH', \"../\") )\n",
    "from hippylib import *\n",
    "\n",
    "# from misfits import *\n",
    "\n",
    "import logging\n",
    "logging.getLogger('FFC').setLevel(logging.WARNING)\n",
    "logging.getLogger('UFL').setLevel(logging.WARNING)\n",
    "dl.set_log_active(False)\n",
    "\n",
    "np.random.seed(seed=1)\n",
    "\n",
    "from linear_elasticity_model import *\n",
    "\n",
    "from plotting_utils import *"
   ]
  },
  {
   "cell_type": "code",
   "execution_count": null,
   "id": "ad0fadf3-0323-46b2-8b9d-acd70a83f44c",
   "metadata": {},
   "outputs": [],
   "source": [
    "settings = linear_elasticity_settings()\n",
    "model = linear_elasticity_model(settings)\n",
    "\n",
    "Vh = model.problem.Vh"
   ]
  },
  {
   "cell_type": "code",
   "execution_count": null,
   "id": "753403b3-168e-44e2-be70-72acdf29a815",
   "metadata": {},
   "outputs": [],
   "source": [
    "m_true = true_parameter(model.prior)\n",
    "m_true_func = dl.Function(model.problem.Vh[hp.PARAMETER])\n",
    "# m_true_func.vector().zero()\n",
    "# m_true_func.vector().axpy(1.,m_true)\n",
    "\n",
    "noise = dl.Vector()\n",
    "model.prior.init_vector(noise,\"noise\")\n",
    "hp.parRandom.normal(1., noise)\n",
    "mtrue = dl.Vector()\n",
    "model.prior.init_vector(mtrue, 0)\n",
    "model.prior.sample(noise, mtrue)\n",
    "m_true_func.vector().zero()\n",
    "m_true_func.vector().axpy(1.,mtrue)\n",
    "\n",
    "dl.plot(m_true_func)"
   ]
  },
  {
   "cell_type": "code",
   "execution_count": null,
   "id": "9a4dc955-6a4c-40ee-9dec-0374439ac9f5",
   "metadata": {},
   "outputs": [],
   "source": [
    "rel_noise = 0.01\n",
    "\n",
    "utrue = model.problem.generate_state()\n",
    "x = [utrue, mtrue, None]\n",
    "model.problem.solveFwd(x[STATE], x)\n",
    "\n",
    "model.misfit.B.mult(x[STATE], model.misfit.d)\n",
    "\n",
    "MAX = model.misfit.d.norm(\"linf\")\n",
    "noise_std_dev = rel_noise * MAX\n",
    "parRandom.normal_perturb(noise_std_dev, model.misfit.d)\n",
    "model.misfit.noise_variance = noise_std_dev*noise_std_dev\n",
    "\n",
    "vmax = max( utrue.max(), model.misfit.d.max() )\n",
    "vmin = min( utrue.min(), model.misfit.d.min() )\n",
    "\n",
    "plt.figure(figsize=(15,5))\n",
    "nb.plot(dl.Function(model.problem.Vh[hp.STATE], utrue), mytitle=\"True State\", subplot_loc=121, vmin=vmin, vmax=vmax)\n",
    "norm = np.linalg.norm(model.misfit.d.get_local().reshape((-1, 2)), axis=1)\n",
    "tmp = dl.Vector(dl.MPI.comm_world, len(norm))\n",
    "tmp.set_local(norm)\n",
    "nb.plot_pts(model.targets, tmp, mytitle=\"Observations\", subplot_loc=122, vmin=vmin, vmax=vmax)\n",
    "\n",
    "    \n",
    "plt.show()"
   ]
  },
  {
   "cell_type": "code",
   "execution_count": null,
   "id": "c850dddd-c39e-417f-ac0b-a4cd69cdd989",
   "metadata": {},
   "outputs": [],
   "source": [
    "if False:\n",
    "    m0 = dl.interpolate(dl.Expression(\"sin(x[0])\", degree=5), Vh[hp.PARAMETER])\n",
    "    _ = hp.modelVerify(model, m0.vector())"
   ]
  },
  {
   "cell_type": "markdown",
   "id": "4793ab28-fe58-441b-bc4b-60e26f72c0e4",
   "metadata": {},
   "source": [
    "## MAP pt estimate with the true model"
   ]
  },
  {
   "cell_type": "code",
   "execution_count": null,
   "id": "e1c53375-e0f6-4b91-82e3-1cf553cd33f9",
   "metadata": {},
   "outputs": [],
   "source": [
    "m = model.prior.mean.copy()\n",
    "solver = hp.ReducedSpaceNewtonCG(model)\n",
    "solver.parameters[\"rel_tolerance\"] = 1e-8\n",
    "solver.parameters[\"abs_tolerance\"] = 1e-12\n",
    "solver.parameters[\"max_iter\"]      = 25\n",
    "solver.parameters[\"GN_iter\"] = 5\n",
    "solver.parameters[\"globalization\"] = \"LS\"\n",
    "solver.parameters[\"LS\"][\"c_armijo\"] = 1e-4\n",
    "\n",
    "\n",
    "x = solver.solve([None, m, None])\n",
    "\n",
    "if solver.converged:\n",
    "    print( \"\\nConverged in \", solver.it, \" iterations.\")\n",
    "else:\n",
    "    print( \"\\nNot Converged\")\n",
    "\n",
    "print( \"Termination reason: \", solver.termination_reasons[solver.reason] )\n",
    "print( \"Final gradient norm: \", solver.final_grad_norm )\n",
    "print( \"Final cost: \", solver.final_cost )\n",
    "\n",
    "plt.figure(figsize=(15,5))\n",
    "nb.plot(dl.Function(Vh[hp.STATE], x[hp.STATE]), subplot_loc=121,mytitle=\"State\")\n",
    "nb.plot(dl.Function(Vh[hp.PARAMETER], x[hp.PARAMETER]), subplot_loc=122,mytitle=\"Parameter\")\n",
    "plt.show()"
   ]
  },
  {
   "cell_type": "markdown",
   "id": "e00d57eb-d5f0-4fc3-a667-b3322b06fbab",
   "metadata": {},
   "source": [
    "## Solve inverse problems with neural operators instead"
   ]
  },
  {
   "cell_type": "code",
   "execution_count": null,
   "id": "e2de1841-aab7-4c8f-b24c-e5aab1dc85ee",
   "metadata": {},
   "outputs": [],
   "source": [
    "import torch\n",
    "import torch.optim as opt\n",
    "from torch.utils.data import DataLoader\n",
    "\n",
    "sys.path.append('../../')\n",
    "\n",
    "from dinotorch_lite import *\n",
    "\n",
    "from ip_utilities import map_estimate\n",
    "\n",
    "# device = torch.device('cuda' if torch.cuda.is_available() else 'cpu')\n",
    "device = 'cpu'"
   ]
  },
  {
   "cell_type": "markdown",
   "id": "7fd0d034-0d5b-4893-ae23-76eb187539e0",
   "metadata": {},
   "source": [
    "## Load networks, evaluate and make plots"
   ]
  },
  {
   "cell_type": "code",
   "execution_count": null,
   "id": "e8340629-347c-4ec1-b1b1-0032a20b08bc",
   "metadata": {},
   "outputs": [],
   "source": [
    "data_dir = 'data/full_state/'\n",
    "\n",
    "rM = 100\n",
    "rQ = 100\n",
    "\n",
    "mq_data_dict = np.load(data_dir+'mq_data.npz')\n",
    "# J_data_dict = np.load(data_dir+'JstarPhi_data_reduced.npz')\n",
    "\n",
    "m_data = mq_data_dict['m_data']\n",
    "q_data = mq_data_dict['q_data']\n",
    "\n",
    "n_data, dQ = q_data.shape\n",
    "n_data, dM = m_data.shape\n",
    "\n",
    "# AS basis was used\n",
    "os.listdir(data_dir)\n",
    "AS_basis = np.load(data_dir + 'AS_input_decoder.npy')[:,:rM]\n",
    "AS_encoder = np.load(data_dir + 'AS_input_encoder.npy')[:,:rM]\n",
    "\n",
    "# POD basis was used\n",
    "POD_basis = np.load(data_dir + 'POD/POD_decoder.npy')[:,:rQ]\n",
    "POD_encoder = np.load(data_dir + 'POD/POD_encoder.npy')[:,:rQ]\n",
    "POD_shift = np.load(data_dir + 'POD/POD_shift.npy')\n",
    "\n",
    "m_test = torch.Tensor(m_data[-200:])\n",
    "q_test = torch.Tensor(q_data[-200:])\n",
    "\n",
    "POD_basis = torch.Tensor(POD_basis).to(torch.float32)\n",
    "POD_shift = torch.Tensor(POD_shift).to(torch.float32)\n",
    "\n",
    "AS_encoder = torch.Tensor(AS_encoder).to(torch.float32)\n",
    "\n",
    "# Prior precision\n",
    "R = np.load(data_dir +'R.npy')\n",
    "R = torch.Tensor(R).to(torch.float32)\n",
    "\n",
    "\n",
    "l2test = L2Dataset(m_test,q_test)\n",
    "batch_size = 32\n",
    "\n",
    "validation_loader = DataLoader(l2test, batch_size=batch_size, shuffle=True)\n",
    "\n",
    "def load_rbno(model_name, dM,dQ,device,validation_loader, verbose = False):\n",
    "    \n",
    "    # network = GenericDense(input_dim = dM,hidden_layer_dim = 2*dM,output_dim = dQ).to(device)\n",
    "    coeff_network = GenericDense(input_size = dM, output_size=dQ, hidden_layer_list = 4*[256],).to(device)\n",
    "    coeff_network.load_state_dict(torch.load(data_dir+model_name))\n",
    "    network = RBLift(coeff_network, AS_encoder, POD_basis, POD_shift)\n",
    "    \n",
    "    rel_error = evaluate_l2_error(network,validation_loader)\n",
    "    if verbose:\n",
    "        print(f'Loading {model_name}')\n",
    "        print(f'Error = {rel_error}')\n",
    "    return network, rel_error\n",
    "\n",
    "\n"
   ]
  },
  {
   "cell_type": "markdown",
   "id": "6877627d-ae3b-4430-8f90-6edbe4bc5a4e",
   "metadata": {},
   "source": [
    "## Load the networks"
   ]
  },
  {
   "cell_type": "code",
   "execution_count": null,
   "id": "a08e5758-c497-4a8f-9393-857a8d7f671f",
   "metadata": {},
   "outputs": [],
   "source": [
    "n_datas = [25,50,100,200,400,800]\n",
    "l2_network_names = ['l2_model_'+str(n_data)+'.pth' for n_data in n_datas]\n",
    "dino_network_names = ['dino_model_'+str(n_data)+'.pth' for n_data in n_datas]\n",
    "\n",
    "l2_networks = []\n",
    "l2_errors = []\n",
    "for name in l2_network_names:\n",
    "    network,error = load_rbno(name,rM,rQ,device, validation_loader)\n",
    "    l2_networks.append(network)\n",
    "    l2_errors.append(error)\n",
    "    \n",
    "\n",
    "dino_networks = []\n",
    "dino_errors = []\n",
    "for name in dino_network_names:\n",
    "    network,error = load_rbno(name,rM,rQ,device, validation_loader)\n",
    "    dino_networks.append(network)\n",
    "    dino_errors.append(error)\n",
    "\n",
    "    \n",
    "    \n"
   ]
  },
  {
   "cell_type": "markdown",
   "id": "4776df99-a354-4481-9020-88bc90f69d1f",
   "metadata": {},
   "source": [
    "## Plot $L^2_\\mu$ generalization accuracies"
   ]
  },
  {
   "cell_type": "code",
   "execution_count": null,
   "id": "e16d2c89-c561-4a0a-bc12-7c8c2ca6df2d",
   "metadata": {},
   "outputs": [],
   "source": [
    "plt.loglog(n_datas, l2_errors, label=r\"$L^2_\\mu$ NO\", linestyle='-', marker='o')\n",
    "plt.loglog(n_datas,dino_errors, label=r\"DINO\", linestyle='--', marker='s')\n",
    "plt.legend()\n",
    "plt.xlabel(\"# training data\")\n",
    "plt.ylabel(\"relative error\")\n",
    "plt.title(r\"$L^2_\\mu$ vs DINO generalization\")\n",
    "plt.show()"
   ]
  },
  {
   "cell_type": "markdown",
   "id": "77bb1c66-af27-432b-8d40-f67788d23624",
   "metadata": {},
   "source": [
    "## Vizualize IP solutions"
   ]
  },
  {
   "cell_type": "code",
   "execution_count": null,
   "id": "1d10c72c-884e-43a5-87e6-f87d8736e987",
   "metadata": {
    "scrolled": true
   },
   "outputs": [],
   "source": [
    "l2rbno_ip_errors = []\n",
    "dirbno_ip_errors = []\n",
    "\n",
    "for n_data, l2_rbmodel, dino_rbmodel in list(zip(n_datas,l2_networks,dino_networks)):\n",
    "    l2_map = map_estimate(l2_rbmodel, model, R=R, output_type = 'full_state',\\\n",
    "                          iterations = 100,verbose=False)\n",
    "    dino_map = map_estimate(dino_rbmodel, model, R=R, output_type = 'full_state',\\\n",
    "                            iterations = 100,verbose=False)\n",
    "\n",
    "    \n",
    "    l2_map_func = dl.Function(Vh[hp.PARAMETER])\n",
    "    dino_map_func = dl.Function(Vh[hp.PARAMETER])\n",
    "    true_map_func = dl.Function(Vh[hp.PARAMETER],x[hp.PARAMETER])\n",
    "    \n",
    "    l2_error = dl.Function(Vh[hp.PARAMETER])\n",
    "    dino_error = dl.Function(Vh[hp.PARAMETER])\n",
    "    l2err = np.abs(l2_map - true_map_func.vector().get_local())\n",
    "    l2_error.vector().set_local(l2err)\n",
    "    dino_error.vector().set_local(np.abs(dino_map - true_map_func.vector().get_local()))\n",
    "\n",
    "    l2rbno_ip_errors.append(dl.norm(l2_error)/dl.norm(true_map_func))\n",
    "    dirbno_ip_errors.append(dl.norm(dino_error)/dl.norm(true_map_func))\n",
    "    \n",
    "    ip_sols = [l2_error,dino_error]\n",
    "    titles = [r\"$L^2_\\mu$ error N=\"+str(n_data),r\"$H^1_\\mu$ error N=\"+str(n_data)]\n",
    "    ip_solution_plot(ip_sols,titles)"
   ]
  },
  {
   "cell_type": "markdown",
   "id": "0e5ba2bf-9db2-44f3-bed8-c466ab0ea882",
   "metadata": {},
   "source": [
    "## Plot IP errors"
   ]
  },
  {
   "cell_type": "code",
   "execution_count": null,
   "id": "06db4cdb-0feb-497a-a11c-427548467260",
   "metadata": {},
   "outputs": [],
   "source": [
    "plt.loglog(n_datas, l2rbno_ip_errors, label=r\"$L^2_\\mu$ NO\", linestyle='-', marker='o')\n",
    "plt.loglog(n_datas,dirbno_ip_errors, label=r\"DINO\", linestyle='--', marker='s')\n",
    "plt.legend()\n",
    "plt.xlabel(\"# training data\")\n",
    "plt.ylabel(\"relative error\")\n",
    "plt.title(r\"$L^2_\\mu$ vs DINO inversion errors\")\n",
    "plt.show()"
   ]
  },
  {
   "cell_type": "code",
   "execution_count": null,
   "id": "fe67d14e-b07f-45b1-8e4f-5b4232726b0e",
   "metadata": {},
   "outputs": [],
   "source": []
  }
 ],
 "metadata": {
  "kernelspec": {
   "display_name": "Python 3 (ipykernel)",
   "language": "python",
   "name": "python3"
  },
  "language_info": {
   "codemirror_mode": {
    "name": "ipython",
    "version": 3
   },
   "file_extension": ".py",
   "mimetype": "text/x-python",
   "name": "python",
   "nbconvert_exporter": "python",
   "pygments_lexer": "ipython3",
   "version": "3.11.9"
  }
 },
 "nbformat": 4,
 "nbformat_minor": 5
}
